{
 "cells": [
  {
   "cell_type": "markdown",
   "metadata": {
    "colab_type": "text",
    "id": "view-in-github"
   },
   "source": [
    "<a href=\"https://colab.research.google.com/github/mightymiklas/dibbitydabadoo/blob/main/BitcoinTradingStrategy.ipynb\" target=\"_parent\"><img src=\"https://colab.research.google.com/assets/colab-badge.svg\" alt=\"Open In Colab\"/></a>"
   ]
  },
  {
   "cell_type": "markdown",
   "metadata": {
    "_cell_guid": "83708667-4fdc-1563-7b3a-06b6575d2865",
    "id": "5FMUUXkNC5nI"
   },
   "source": [
    "\n",
    "\n",
    "# Bitcoin Price Prediction\n",
    "\n",
    "The goal of this case study is tu use classification based models to predict whether the current signal is **buy or sell** depending on the short term vs long term price."
   ]
  },
  {
   "cell_type": "markdown",
   "metadata": {
    "id": "w4VFZBZEC5nL"
   },
   "source": [
    "## Content"
   ]
  },
  {
   "cell_type": "markdown",
   "metadata": {
    "id": "98SuMpKBC5nM"
   },
   "source": [
    "* [1. Problem Definition](#0)\n",
    "* [2. Getting Started - Load Libraries and Dataset](#1)\n",
    "    * [2.1. Load Libraries](#1.1)    \n",
    "    * [2.2. Load Dataset](#1.2)\n",
    "* [3. Exploratory Data Analysis](#2)\n",
    "    * [3.1 Descriptive Statistics](#2.1) \n",
    "* [4. Data Preparation](#3)\n",
    "    * [4.1 Data Cleaning](#3.1)\n",
    "    * [4.2. Preparing classification data](#3.2)\n",
    "    * [4.3. Feature Engineering-Constructing Technical Indicators](#3.3)\n",
    "    * [4.4.Data Visualisation](#3.4)\n",
    "* [5.Evaluate Algorithms and Models](#4)        \n",
    "    * [5.1. Train/Test Split](#4.1)\n",
    "    * [5.2. Test Options and Evaluation Metrics](#4.2)\n",
    "    * [5.3. Compare Models and Algorithms](#4.3) \n",
    "* [6. Model Tuning and Grid Search](#5)  \n",
    "* [7. Finalize the Model](#6)  \n",
    "    * [7.1. Results on test dataset](#6.1)\n",
    "    * [7.1. Variable Intuition/Feature Selection](#6.2) \n",
    "* [8. Backtesting](#7)     \n"
   ]
  },
  {
   "cell_type": "markdown",
   "metadata": {
    "id": "zyiASdRjC5nN"
   },
   "source": [
    "<a id='0'></a>\n",
    "# 1. Problem Definition"
   ]
  },
  {
   "cell_type": "markdown",
   "metadata": {
    "id": "4m-pzb5dC5nO"
   },
   "source": [
    "The problem of predicting a buy or sell signal for a trading strategy is defined in the\n",
    "classification framework, where the predicted variable has a value of 1 for buy and 0\n",
    "for sell.\n",
    "\n",
    "The buy or sell signal are decided on the basis on the comparison of short term vs. long\n",
    "term price.\n",
    "\n",
    "For the purpose of presented case study, we get the data from one of the largest Bit‐\n",
    "coin exchanges in terms of average daily volume traded—Bitstamp (https://\n",
    "www.bitstamp.com). Data can be found at: https://www.kaggle.com/mczielinski/bitcoin-historical-data"
   ]
  },
  {
   "cell_type": "markdown",
   "metadata": {
    "id": "ETRKoBoDC5nP"
   },
   "source": [
    "<a id='1'></a>\n",
    "# 2. Getting Started- Loading the data and python packages"
   ]
  },
  {
   "cell_type": "markdown",
   "metadata": {
    "id": "Sj5FSF1iC5nP"
   },
   "source": [
    "<a id='1.1'></a>\n",
    "## 2.1. Loading the python packages"
   ]
  },
  {
   "cell_type": "code",
   "execution_count": 95,
   "metadata": {
    "_cell_guid": "5d8fee34-f454-2642-8b06-ed719f0317e1",
    "id": "MlhDITciC5nQ"
   },
   "outputs": [],
   "source": [
    "# Load libraries\n",
    "import numpy as np\n",
    "import pandas as pd\n",
    "from pathlib import Path\n",
    "import matplotlib.pyplot as plt\n",
    "from pandas import read_csv, set_option\n",
    "from pandas.plotting import scatter_matrix\n",
    "import seaborn as sns\n",
    "from sklearn.preprocessing import StandardScaler\n",
    "from sklearn.model_selection import train_test_split, KFold, cross_val_score, GridSearchCV\n",
    "from sklearn.linear_model import LogisticRegression\n",
    "from sklearn.tree import DecisionTreeClassifier\n",
    "from sklearn.neighbors import KNeighborsClassifier\n",
    "from sklearn.discriminant_analysis import LinearDiscriminantAnalysis\n",
    "from sklearn.naive_bayes import GaussianNB\n",
    "from sklearn.svm import SVC\n",
    "from sklearn.neural_network import MLPClassifier\n",
    "from sklearn.pipeline import Pipeline\n",
    "from sklearn.ensemble import AdaBoostClassifier, GradientBoostingClassifier, RandomForestClassifier, ExtraTreesClassifier\n",
    "from sklearn.metrics import classification_report, confusion_matrix, accuracy_score\n",
    "\n",
    "#Libraries for Deep Learning Models\n",
    "from keras.models import Sequential\n",
    "from keras.layers import Dense\n",
    "from keras.wrappers.scikit_learn import KerasClassifier\n",
    "from tensorflow.keras.optimizers import SGD\n"
   ]
  },
  {
   "cell_type": "markdown",
   "metadata": {
    "id": "sYQpEoKNC5nT"
   },
   "source": [
    "<a id='1.2'></a>\n",
    "## 2.2. Loading the Data"
   ]
  },
  {
   "cell_type": "markdown",
   "metadata": {
    "id": "PxjV_9nyC5nU"
   },
   "source": []
  },
  {
   "cell_type": "code",
   "execution_count": 96,
   "metadata": {
    "_cell_guid": "787e35f7-bf9e-0969-8d13-a54fa87f3519",
    "id": "QdERrLu-C5nU"
   },
   "outputs": [],
   "source": [
    "btc_path = Path(\"bitstamp_flipped.csv\")\n",
    "btc_dataset = pd.read_csv(btc_path, index_col='date', \n",
    "                          infer_datetime_format = True, \n",
    "                          parse_dates= True)\n",
    "                        \n",
    "\n",
    "\n"
   ]
  },
  {
   "cell_type": "code",
   "execution_count": 97,
   "metadata": {
    "id": "zMNe1AOhC5nV"
   },
   "outputs": [],
   "source": [
    "#Diable the warnings\n",
    "import warnings\n",
    "warnings.filterwarnings('ignore')"
   ]
  },
  {
   "cell_type": "markdown",
   "metadata": {
    "_cell_guid": "df6a4523-b385-69ee-c933-592826d81431",
    "id": "GBMlpFEcC5nW"
   },
   "source": [
    "<a id='2'></a>\n",
    "# 3. Exploratory Data Analysis"
   ]
  },
  {
   "cell_type": "markdown",
   "metadata": {
    "id": "IfJUer79C5nW"
   },
   "source": [
    "<a id='2.1'></a>\n",
    "## 3.1. Descriptive Statistics"
   ]
  },
  {
   "cell_type": "code",
   "execution_count": 98,
   "metadata": {
    "_cell_guid": "52f85dc2-0f91-3c50-400e-ddc38bea966b",
    "colab": {
     "base_uri": "https://localhost:8080/"
    },
    "id": "nt1z7w5zC5nX",
    "outputId": "b13e3a0c-9482-48f9-acef-d354adac8116"
   },
   "outputs": [
    {
     "data": {
      "text/plain": [
       "(2672, 7)"
      ]
     },
     "execution_count": 98,
     "metadata": {},
     "output_type": "execute_result"
    }
   ],
   "source": [
    "# shape\n",
    "btc_dataset.shape"
   ]
  },
  {
   "cell_type": "code",
   "execution_count": 99,
   "metadata": {
    "colab": {
     "base_uri": "https://localhost:8080/",
     "height": 207
    },
    "id": "56hzfpDUC5nY",
    "outputId": "3c073340-b699-4871-c76a-2e7f19578097"
   },
   "outputs": [
    {
     "data": {
      "text/html": [
       "<div>\n",
       "<style scoped>\n",
       "    .dataframe tbody tr th:only-of-type {\n",
       "        vertical-align: middle;\n",
       "    }\n",
       "\n",
       "    .dataframe tbody tr th {\n",
       "        vertical-align: top;\n",
       "    }\n",
       "\n",
       "    .dataframe thead th {\n",
       "        text-align: right;\n",
       "    }\n",
       "</style>\n",
       "<table border=\"1\" class=\"dataframe\">\n",
       "  <thead>\n",
       "    <tr style=\"text-align: right;\">\n",
       "      <th></th>\n",
       "      <th>symbol</th>\n",
       "      <th>open</th>\n",
       "      <th>high</th>\n",
       "      <th>low</th>\n",
       "      <th>close</th>\n",
       "      <th>Volume BTC</th>\n",
       "      <th>Volume USD</th>\n",
       "    </tr>\n",
       "    <tr>\n",
       "      <th>date</th>\n",
       "      <th></th>\n",
       "      <th></th>\n",
       "      <th></th>\n",
       "      <th></th>\n",
       "      <th></th>\n",
       "      <th></th>\n",
       "      <th></th>\n",
       "    </tr>\n",
       "  </thead>\n",
       "  <tbody>\n",
       "    <tr>\n",
       "      <th>2022-03-18</th>\n",
       "      <td>BTC/USD</td>\n",
       "      <td>40963.22</td>\n",
       "      <td>42362.00</td>\n",
       "      <td>40068.88</td>\n",
       "      <td>41794.37</td>\n",
       "      <td>2125.123</td>\n",
       "      <td>8.882e+07</td>\n",
       "    </tr>\n",
       "    <tr>\n",
       "      <th>2022-03-19</th>\n",
       "      <td>BTC/USD</td>\n",
       "      <td>41781.96</td>\n",
       "      <td>42405.01</td>\n",
       "      <td>41553.88</td>\n",
       "      <td>42235.31</td>\n",
       "      <td>976.889</td>\n",
       "      <td>4.126e+07</td>\n",
       "    </tr>\n",
       "    <tr>\n",
       "      <th>2022-03-20</th>\n",
       "      <td>BTC/USD</td>\n",
       "      <td>42240.43</td>\n",
       "      <td>42324.06</td>\n",
       "      <td>40930.20</td>\n",
       "      <td>41242.14</td>\n",
       "      <td>1061.353</td>\n",
       "      <td>4.377e+07</td>\n",
       "    </tr>\n",
       "    <tr>\n",
       "      <th>2022-03-21</th>\n",
       "      <td>BTC/USD</td>\n",
       "      <td>41293.19</td>\n",
       "      <td>41588.70</td>\n",
       "      <td>40516.86</td>\n",
       "      <td>41043.14</td>\n",
       "      <td>1779.498</td>\n",
       "      <td>7.304e+07</td>\n",
       "    </tr>\n",
       "    <tr>\n",
       "      <th>2022-03-22</th>\n",
       "      <td>BTC/USD</td>\n",
       "      <td>41018.36</td>\n",
       "      <td>41867.13</td>\n",
       "      <td>40901.13</td>\n",
       "      <td>41732.03</td>\n",
       "      <td>210.062</td>\n",
       "      <td>8.766e+06</td>\n",
       "    </tr>\n",
       "  </tbody>\n",
       "</table>\n",
       "</div>"
      ],
      "text/plain": [
       "             symbol      open      high       low     close  Volume BTC  Volume USD\n",
       "date                                                                               \n",
       "2022-03-18  BTC/USD  40963.22  42362.00  40068.88  41794.37    2125.123   8.882e+07\n",
       "2022-03-19  BTC/USD  41781.96  42405.01  41553.88  42235.31     976.889   4.126e+07\n",
       "2022-03-20  BTC/USD  42240.43  42324.06  40930.20  41242.14    1061.353   4.377e+07\n",
       "2022-03-21  BTC/USD  41293.19  41588.70  40516.86  41043.14    1779.498   7.304e+07\n",
       "2022-03-22  BTC/USD  41018.36  41867.13  40901.13  41732.03     210.062   8.766e+06"
      ]
     },
     "execution_count": 99,
     "metadata": {},
     "output_type": "execute_result"
    }
   ],
   "source": [
    "# peek at data\n",
    "set_option('display.width', 100)\n",
    "btc_dataset.tail(5)"
   ]
  },
  {
   "cell_type": "code",
   "execution_count": 100,
   "metadata": {},
   "outputs": [
    {
     "data": {
      "text/html": [
       "<div>\n",
       "<style scoped>\n",
       "    .dataframe tbody tr th:only-of-type {\n",
       "        vertical-align: middle;\n",
       "    }\n",
       "\n",
       "    .dataframe tbody tr th {\n",
       "        vertical-align: top;\n",
       "    }\n",
       "\n",
       "    .dataframe thead th {\n",
       "        text-align: right;\n",
       "    }\n",
       "</style>\n",
       "<table border=\"1\" class=\"dataframe\">\n",
       "  <thead>\n",
       "    <tr style=\"text-align: right;\">\n",
       "      <th></th>\n",
       "      <th>symbol</th>\n",
       "      <th>open</th>\n",
       "      <th>high</th>\n",
       "      <th>low</th>\n",
       "      <th>close</th>\n",
       "      <th>Volume BTC</th>\n",
       "      <th>Volume USD</th>\n",
       "    </tr>\n",
       "    <tr>\n",
       "      <th>date</th>\n",
       "      <th></th>\n",
       "      <th></th>\n",
       "      <th></th>\n",
       "      <th></th>\n",
       "      <th></th>\n",
       "      <th></th>\n",
       "      <th></th>\n",
       "    </tr>\n",
       "  </thead>\n",
       "  <tbody>\n",
       "    <tr>\n",
       "      <th>2014-11-28</th>\n",
       "      <td>BTC/USD</td>\n",
       "      <td>363.59</td>\n",
       "      <td>381.34</td>\n",
       "      <td>360.57</td>\n",
       "      <td>376.28</td>\n",
       "      <td>3.221e+06</td>\n",
       "      <td>8617.15</td>\n",
       "    </tr>\n",
       "    <tr>\n",
       "      <th>2014-11-29</th>\n",
       "      <td>BTC/USD</td>\n",
       "      <td>376.42</td>\n",
       "      <td>386.60</td>\n",
       "      <td>372.25</td>\n",
       "      <td>376.72</td>\n",
       "      <td>2.746e+06</td>\n",
       "      <td>7245.19</td>\n",
       "    </tr>\n",
       "    <tr>\n",
       "      <th>2014-11-30</th>\n",
       "      <td>BTC/USD</td>\n",
       "      <td>376.57</td>\n",
       "      <td>381.99</td>\n",
       "      <td>373.32</td>\n",
       "      <td>373.34</td>\n",
       "      <td>1.146e+06</td>\n",
       "      <td>3046.33</td>\n",
       "    </tr>\n",
       "    <tr>\n",
       "      <th>2014-12-01</th>\n",
       "      <td>BTC/USD</td>\n",
       "      <td>376.40</td>\n",
       "      <td>382.31</td>\n",
       "      <td>373.03</td>\n",
       "      <td>378.39</td>\n",
       "      <td>2.521e+06</td>\n",
       "      <td>6660.56</td>\n",
       "    </tr>\n",
       "    <tr>\n",
       "      <th>2014-12-02</th>\n",
       "      <td>BTC/USD</td>\n",
       "      <td>378.39</td>\n",
       "      <td>382.86</td>\n",
       "      <td>375.23</td>\n",
       "      <td>379.25</td>\n",
       "      <td>2.594e+06</td>\n",
       "      <td>6832.53</td>\n",
       "    </tr>\n",
       "  </tbody>\n",
       "</table>\n",
       "</div>"
      ],
      "text/plain": [
       "             symbol    open    high     low   close  Volume BTC  Volume USD\n",
       "date                                                                       \n",
       "2014-11-28  BTC/USD  363.59  381.34  360.57  376.28   3.221e+06     8617.15\n",
       "2014-11-29  BTC/USD  376.42  386.60  372.25  376.72   2.746e+06     7245.19\n",
       "2014-11-30  BTC/USD  376.57  381.99  373.32  373.34   1.146e+06     3046.33\n",
       "2014-12-01  BTC/USD  376.40  382.31  373.03  378.39   2.521e+06     6660.56\n",
       "2014-12-02  BTC/USD  378.39  382.86  375.23  379.25   2.594e+06     6832.53"
      ]
     },
     "execution_count": 100,
     "metadata": {},
     "output_type": "execute_result"
    }
   ],
   "source": [
    "btc_dataset.head()"
   ]
  },
  {
   "cell_type": "code",
   "execution_count": 101,
   "metadata": {
    "_cell_guid": "7bffeec0-5bbc-fffb-18f2-3da56b862ca3",
    "colab": {
     "base_uri": "https://localhost:8080/",
     "height": 300
    },
    "id": "-_-s9Wz8C5nY",
    "outputId": "e77f478c-fa49-46fe-c877-6ac5d028e28e"
   },
   "outputs": [
    {
     "data": {
      "text/html": [
       "<div>\n",
       "<style scoped>\n",
       "    .dataframe tbody tr th:only-of-type {\n",
       "        vertical-align: middle;\n",
       "    }\n",
       "\n",
       "    .dataframe tbody tr th {\n",
       "        vertical-align: top;\n",
       "    }\n",
       "\n",
       "    .dataframe thead th {\n",
       "        text-align: right;\n",
       "    }\n",
       "</style>\n",
       "<table border=\"1\" class=\"dataframe\">\n",
       "  <thead>\n",
       "    <tr style=\"text-align: right;\">\n",
       "      <th></th>\n",
       "      <th>open</th>\n",
       "      <th>high</th>\n",
       "      <th>low</th>\n",
       "      <th>close</th>\n",
       "      <th>Volume BTC</th>\n",
       "      <th>Volume USD</th>\n",
       "    </tr>\n",
       "  </thead>\n",
       "  <tbody>\n",
       "    <tr>\n",
       "      <th>count</th>\n",
       "      <td>2672.000</td>\n",
       "      <td>2672.000</td>\n",
       "      <td>2672.000</td>\n",
       "      <td>2672.000</td>\n",
       "      <td>2.672e+03</td>\n",
       "      <td>2.672e+03</td>\n",
       "    </tr>\n",
       "    <tr>\n",
       "      <th>mean</th>\n",
       "      <td>11918.914</td>\n",
       "      <td>12269.099</td>\n",
       "      <td>11516.848</td>\n",
       "      <td>11934.418</td>\n",
       "      <td>1.320e+07</td>\n",
       "      <td>6.113e+07</td>\n",
       "    </tr>\n",
       "    <tr>\n",
       "      <th>std</th>\n",
       "      <td>16406.581</td>\n",
       "      <td>16874.089</td>\n",
       "      <td>15851.549</td>\n",
       "      <td>16415.597</td>\n",
       "      <td>4.698e+07</td>\n",
       "      <td>1.069e+08</td>\n",
       "    </tr>\n",
       "    <tr>\n",
       "      <th>min</th>\n",
       "      <td>162.000</td>\n",
       "      <td>212.840</td>\n",
       "      <td>152.400</td>\n",
       "      <td>162.000</td>\n",
       "      <td>0.000e+00</td>\n",
       "      <td>0.000e+00</td>\n",
       "    </tr>\n",
       "    <tr>\n",
       "      <th>25%</th>\n",
       "      <td>656.997</td>\n",
       "      <td>666.577</td>\n",
       "      <td>646.037</td>\n",
       "      <td>658.890</td>\n",
       "      <td>5.213e+03</td>\n",
       "      <td>9.595e+03</td>\n",
       "    </tr>\n",
       "    <tr>\n",
       "      <th>50%</th>\n",
       "      <td>6444.120</td>\n",
       "      <td>6585.745</td>\n",
       "      <td>6338.175</td>\n",
       "      <td>6450.455</td>\n",
       "      <td>1.457e+04</td>\n",
       "      <td>2.398e+07</td>\n",
       "    </tr>\n",
       "    <tr>\n",
       "      <th>75%</th>\n",
       "      <td>10842.405</td>\n",
       "      <td>11177.003</td>\n",
       "      <td>10527.515</td>\n",
       "      <td>10850.455</td>\n",
       "      <td>3.361e+06</td>\n",
       "      <td>8.036e+07</td>\n",
       "    </tr>\n",
       "    <tr>\n",
       "      <th>max</th>\n",
       "      <td>67547.490</td>\n",
       "      <td>69000.000</td>\n",
       "      <td>66250.000</td>\n",
       "      <td>67559.000</td>\n",
       "      <td>7.723e+08</td>\n",
       "      <td>1.446e+09</td>\n",
       "    </tr>\n",
       "  </tbody>\n",
       "</table>\n",
       "</div>"
      ],
      "text/plain": [
       "            open       high        low      close  Volume BTC  Volume USD\n",
       "count   2672.000   2672.000   2672.000   2672.000   2.672e+03   2.672e+03\n",
       "mean   11918.914  12269.099  11516.848  11934.418   1.320e+07   6.113e+07\n",
       "std    16406.581  16874.089  15851.549  16415.597   4.698e+07   1.069e+08\n",
       "min      162.000    212.840    152.400    162.000   0.000e+00   0.000e+00\n",
       "25%      656.997    666.577    646.037    658.890   5.213e+03   9.595e+03\n",
       "50%     6444.120   6585.745   6338.175   6450.455   1.457e+04   2.398e+07\n",
       "75%    10842.405  11177.003  10527.515  10850.455   3.361e+06   8.036e+07\n",
       "max    67547.490  69000.000  66250.000  67559.000   7.723e+08   1.446e+09"
      ]
     },
     "execution_count": 101,
     "metadata": {},
     "output_type": "execute_result"
    }
   ],
   "source": [
    "# describe data\n",
    "set_option('precision', 3)\n",
    "btc_dataset.describe()"
   ]
  },
  {
   "cell_type": "code",
   "execution_count": null,
   "metadata": {},
   "outputs": [],
   "source": []
  },
  {
   "cell_type": "markdown",
   "metadata": {
    "id": "xMd7j4EMC5nZ"
   },
   "source": [
    "<a id='3'></a>\n",
    "# 4. Data Preparation"
   ]
  },
  {
   "cell_type": "markdown",
   "metadata": {
    "id": "YXXPq-YtC5nZ"
   },
   "source": [
    "<a id='3.1'></a>\n",
    "## 4.1. Data Cleaning"
   ]
  },
  {
   "cell_type": "code",
   "execution_count": 102,
   "metadata": {
    "colab": {
     "base_uri": "https://localhost:8080/"
    },
    "id": "yRLPQkJmC5nZ",
    "outputId": "f41a1c77-d250-44f2-dcec-279334c6f5d7"
   },
   "outputs": [
    {
     "name": "stdout",
     "output_type": "stream",
     "text": [
      "Null Values = False\n"
     ]
    }
   ],
   "source": [
    "#Checking for any null values and removing the null values'''\n",
    "print('Null Values =',btc_dataset.isnull().values.any())"
   ]
  },
  {
   "cell_type": "markdown",
   "metadata": {
    "id": "qdUEIalxC5na"
   },
   "source": [
    "Given that there are null values, we need to clean the data by filling the *NaNs* with the last available values. "
   ]
  },
  {
   "cell_type": "markdown",
   "metadata": {
    "id": "XKijiBfcC5nb"
   },
   "source": [
    "<a id='3.2'></a>\n",
    "## 4.2. Preparing the data for classification"
   ]
  },
  {
   "cell_type": "markdown",
   "metadata": {
    "id": "NPEsVGJRC5nb"
   },
   "source": [
    "We attach a label to each movement: \n",
    "* **1** if the signal is that short term price will go up as compared to the long term. \n",
    "* **0** if the signal is that short term price will go down as compared to the long term."
   ]
  },
  {
   "cell_type": "code",
   "execution_count": 103,
   "metadata": {
    "id": "JsMYosnUC5nb"
   },
   "outputs": [],
   "source": [
    "# Initialize the `signals` DataFrame with the `signal` column\n",
    "#datas['PriceMove'] = 0.0\n",
    "\n",
    "# Create short simple moving average over the short window\n",
    "btc_dataset['short_mavg'] = btc_dataset['close'].rolling(window=10, min_periods=1, center=False).mean()\n",
    "\n",
    "# Create long simple moving average over the long window\n",
    "btc_dataset['long_mavg'] = btc_dataset['close'].rolling(window=60, min_periods=1, center=False).mean()\n",
    "\n",
    "# Create signals\n",
    "btc_dataset['signal'] = np.where(btc_dataset['short_mavg'] > btc_dataset['long_mavg'], 1.0, 0.0)"
   ]
  },
  {
   "cell_type": "code",
   "execution_count": 104,
   "metadata": {
    "colab": {
     "base_uri": "https://localhost:8080/",
     "height": 207
    },
    "id": "w5t8xNFXC5nc",
    "outputId": "c75b7c3b-aa43-4b36-eec1-c15fe4aa7023"
   },
   "outputs": [
    {
     "data": {
      "text/html": [
       "<div>\n",
       "<style scoped>\n",
       "    .dataframe tbody tr th:only-of-type {\n",
       "        vertical-align: middle;\n",
       "    }\n",
       "\n",
       "    .dataframe tbody tr th {\n",
       "        vertical-align: top;\n",
       "    }\n",
       "\n",
       "    .dataframe thead th {\n",
       "        text-align: right;\n",
       "    }\n",
       "</style>\n",
       "<table border=\"1\" class=\"dataframe\">\n",
       "  <thead>\n",
       "    <tr style=\"text-align: right;\">\n",
       "      <th></th>\n",
       "      <th>symbol</th>\n",
       "      <th>open</th>\n",
       "      <th>high</th>\n",
       "      <th>low</th>\n",
       "      <th>close</th>\n",
       "      <th>Volume BTC</th>\n",
       "      <th>Volume USD</th>\n",
       "      <th>short_mavg</th>\n",
       "      <th>long_mavg</th>\n",
       "      <th>signal</th>\n",
       "    </tr>\n",
       "    <tr>\n",
       "      <th>date</th>\n",
       "      <th></th>\n",
       "      <th></th>\n",
       "      <th></th>\n",
       "      <th></th>\n",
       "      <th></th>\n",
       "      <th></th>\n",
       "      <th></th>\n",
       "      <th></th>\n",
       "      <th></th>\n",
       "      <th></th>\n",
       "    </tr>\n",
       "  </thead>\n",
       "  <tbody>\n",
       "    <tr>\n",
       "      <th>2022-03-18</th>\n",
       "      <td>BTC/USD</td>\n",
       "      <td>40963.22</td>\n",
       "      <td>42362.00</td>\n",
       "      <td>40068.88</td>\n",
       "      <td>41794.37</td>\n",
       "      <td>2125.123</td>\n",
       "      <td>8.882e+07</td>\n",
       "      <td>39961.558</td>\n",
       "      <td>39973.886</td>\n",
       "      <td>0.0</td>\n",
       "    </tr>\n",
       "    <tr>\n",
       "      <th>2022-03-19</th>\n",
       "      <td>BTC/USD</td>\n",
       "      <td>41781.96</td>\n",
       "      <td>42405.01</td>\n",
       "      <td>41553.88</td>\n",
       "      <td>42235.31</td>\n",
       "      <td>976.889</td>\n",
       "      <td>4.126e+07</td>\n",
       "      <td>39989.087</td>\n",
       "      <td>39971.518</td>\n",
       "      <td>1.0</td>\n",
       "    </tr>\n",
       "    <tr>\n",
       "      <th>2022-03-20</th>\n",
       "      <td>BTC/USD</td>\n",
       "      <td>42240.43</td>\n",
       "      <td>42324.06</td>\n",
       "      <td>40930.20</td>\n",
       "      <td>41242.14</td>\n",
       "      <td>1061.353</td>\n",
       "      <td>4.377e+07</td>\n",
       "      <td>40168.856</td>\n",
       "      <td>39964.167</td>\n",
       "      <td>1.0</td>\n",
       "    </tr>\n",
       "    <tr>\n",
       "      <th>2022-03-21</th>\n",
       "      <td>BTC/USD</td>\n",
       "      <td>41293.19</td>\n",
       "      <td>41588.70</td>\n",
       "      <td>40516.86</td>\n",
       "      <td>41043.14</td>\n",
       "      <td>1779.498</td>\n",
       "      <td>7.304e+07</td>\n",
       "      <td>40400.191</td>\n",
       "      <td>39969.285</td>\n",
       "      <td>1.0</td>\n",
       "    </tr>\n",
       "    <tr>\n",
       "      <th>2022-03-22</th>\n",
       "      <td>BTC/USD</td>\n",
       "      <td>41018.36</td>\n",
       "      <td>41867.13</td>\n",
       "      <td>40901.13</td>\n",
       "      <td>41732.03</td>\n",
       "      <td>210.062</td>\n",
       "      <td>8.766e+06</td>\n",
       "      <td>40691.192</td>\n",
       "      <td>40056.561</td>\n",
       "      <td>1.0</td>\n",
       "    </tr>\n",
       "  </tbody>\n",
       "</table>\n",
       "</div>"
      ],
      "text/plain": [
       "             symbol      open      high       low     close  Volume BTC  Volume USD  short_mavg  \\\n",
       "date                                                                                              \n",
       "2022-03-18  BTC/USD  40963.22  42362.00  40068.88  41794.37    2125.123   8.882e+07   39961.558   \n",
       "2022-03-19  BTC/USD  41781.96  42405.01  41553.88  42235.31     976.889   4.126e+07   39989.087   \n",
       "2022-03-20  BTC/USD  42240.43  42324.06  40930.20  41242.14    1061.353   4.377e+07   40168.856   \n",
       "2022-03-21  BTC/USD  41293.19  41588.70  40516.86  41043.14    1779.498   7.304e+07   40400.191   \n",
       "2022-03-22  BTC/USD  41018.36  41867.13  40901.13  41732.03     210.062   8.766e+06   40691.192   \n",
       "\n",
       "            long_mavg  signal  \n",
       "date                           \n",
       "2022-03-18  39973.886     0.0  \n",
       "2022-03-19  39971.518     1.0  \n",
       "2022-03-20  39964.167     1.0  \n",
       "2022-03-21  39969.285     1.0  \n",
       "2022-03-22  40056.561     1.0  "
      ]
     },
     "execution_count": 104,
     "metadata": {},
     "output_type": "execute_result"
    }
   ],
   "source": [
    "btc_dataset.tail()\n"
   ]
  },
  {
   "cell_type": "markdown",
   "metadata": {
    "id": "o8hd7fmyC5nc"
   },
   "source": [
    "<a id='3.3'></a>\n",
    "## 4.3. Feature Engineering"
   ]
  },
  {
   "cell_type": "markdown",
   "metadata": {
    "id": "XBigrBaYC5nc"
   },
   "source": [
    "We begin by the constructing a dataset that contains the predictors which will be used to make the predictions, and the output variable.\n",
    "\n",
    "The current Data of the bicoin consists of date, open, high, low, close and Volume. Using this data we calculate the following  technical indicators:\n",
    "* **Moving Average** : A moving average provides an indication of the trend of the price movement by cut down the amount of \"noise\" on a price chart. \n",
    "* **Stochastic Oscillator %K and %D** : A stochastic oscillator is a momentum indicator comparing a particular closing price of a security to a range of its prices over a certain period of time. %K and %D are slow and fast indicators.\n",
    "* **Relative Strength Index(RSI)** :It is a momentum indicator that measures the magnitude of recent price changes to evaluate overbought or oversold conditions in the price of a stock or other asset. \n",
    "* **Rate Of Change(ROC)**: It is a momentum oscillator, which measures the percentage change between the current price and the n period past price. \n",
    "* **Momentum (MOM)** : It is the rate of acceleration of a security's price or volume – that is, the speed at which the price is changing."
   ]
  },
  {
   "cell_type": "code",
   "execution_count": 105,
   "metadata": {
    "id": "x0QG5_wKC5nd"
   },
   "outputs": [
    {
     "data": {
      "text/html": [
       "<div>\n",
       "<style scoped>\n",
       "    .dataframe tbody tr th:only-of-type {\n",
       "        vertical-align: middle;\n",
       "    }\n",
       "\n",
       "    .dataframe tbody tr th {\n",
       "        vertical-align: top;\n",
       "    }\n",
       "\n",
       "    .dataframe thead th {\n",
       "        text-align: right;\n",
       "    }\n",
       "</style>\n",
       "<table border=\"1\" class=\"dataframe\">\n",
       "  <thead>\n",
       "    <tr style=\"text-align: right;\">\n",
       "      <th></th>\n",
       "      <th>symbol</th>\n",
       "      <th>open</th>\n",
       "      <th>high</th>\n",
       "      <th>low</th>\n",
       "      <th>close</th>\n",
       "      <th>Volume BTC</th>\n",
       "      <th>Volume USD</th>\n",
       "      <th>short_mavg</th>\n",
       "      <th>long_mavg</th>\n",
       "      <th>signal</th>\n",
       "      <th>EMA10</th>\n",
       "      <th>EMA30</th>\n",
       "      <th>EMA200</th>\n",
       "      <th>RSI10</th>\n",
       "      <th>RSI30</th>\n",
       "      <th>RSI200</th>\n",
       "    </tr>\n",
       "    <tr>\n",
       "      <th>date</th>\n",
       "      <th></th>\n",
       "      <th></th>\n",
       "      <th></th>\n",
       "      <th></th>\n",
       "      <th></th>\n",
       "      <th></th>\n",
       "      <th></th>\n",
       "      <th></th>\n",
       "      <th></th>\n",
       "      <th></th>\n",
       "      <th></th>\n",
       "      <th></th>\n",
       "      <th></th>\n",
       "      <th></th>\n",
       "      <th></th>\n",
       "      <th></th>\n",
       "    </tr>\n",
       "  </thead>\n",
       "  <tbody>\n",
       "    <tr>\n",
       "      <th>2022-03-18</th>\n",
       "      <td>BTC/USD</td>\n",
       "      <td>40963.22</td>\n",
       "      <td>42362.00</td>\n",
       "      <td>40068.88</td>\n",
       "      <td>41794.37</td>\n",
       "      <td>2125.123</td>\n",
       "      <td>8.882e+07</td>\n",
       "      <td>39961.558</td>\n",
       "      <td>39973.886</td>\n",
       "      <td>0.0</td>\n",
       "      <td>40239.939</td>\n",
       "      <td>40202.011</td>\n",
       "      <td>44837.414</td>\n",
       "      <td>58.136</td>\n",
       "      <td>50.926</td>\n",
       "      <td>49.870</td>\n",
       "    </tr>\n",
       "    <tr>\n",
       "      <th>2022-03-19</th>\n",
       "      <td>BTC/USD</td>\n",
       "      <td>41781.96</td>\n",
       "      <td>42405.01</td>\n",
       "      <td>41553.88</td>\n",
       "      <td>42235.31</td>\n",
       "      <td>976.889</td>\n",
       "      <td>4.126e+07</td>\n",
       "      <td>39989.087</td>\n",
       "      <td>39971.518</td>\n",
       "      <td>1.0</td>\n",
       "      <td>40602.734</td>\n",
       "      <td>40333.192</td>\n",
       "      <td>44811.522</td>\n",
       "      <td>59.838</td>\n",
       "      <td>51.563</td>\n",
       "      <td>49.965</td>\n",
       "    </tr>\n",
       "    <tr>\n",
       "      <th>2022-03-20</th>\n",
       "      <td>BTC/USD</td>\n",
       "      <td>42240.43</td>\n",
       "      <td>42324.06</td>\n",
       "      <td>40930.20</td>\n",
       "      <td>41242.14</td>\n",
       "      <td>1061.353</td>\n",
       "      <td>4.377e+07</td>\n",
       "      <td>40168.856</td>\n",
       "      <td>39964.167</td>\n",
       "      <td>1.0</td>\n",
       "      <td>40718.989</td>\n",
       "      <td>40391.833</td>\n",
       "      <td>44776.006</td>\n",
       "      <td>54.312</td>\n",
       "      <td>50.049</td>\n",
       "      <td>49.752</td>\n",
       "    </tr>\n",
       "    <tr>\n",
       "      <th>2022-03-21</th>\n",
       "      <td>BTC/USD</td>\n",
       "      <td>41293.19</td>\n",
       "      <td>41588.70</td>\n",
       "      <td>40516.86</td>\n",
       "      <td>41043.14</td>\n",
       "      <td>1779.498</td>\n",
       "      <td>7.304e+07</td>\n",
       "      <td>40400.191</td>\n",
       "      <td>39969.285</td>\n",
       "      <td>1.0</td>\n",
       "      <td>40777.926</td>\n",
       "      <td>40433.853</td>\n",
       "      <td>44738.863</td>\n",
       "      <td>53.218</td>\n",
       "      <td>49.746</td>\n",
       "      <td>49.709</td>\n",
       "    </tr>\n",
       "    <tr>\n",
       "      <th>2022-03-22</th>\n",
       "      <td>BTC/USD</td>\n",
       "      <td>41018.36</td>\n",
       "      <td>41867.13</td>\n",
       "      <td>40901.13</td>\n",
       "      <td>41732.03</td>\n",
       "      <td>210.062</td>\n",
       "      <td>8.766e+06</td>\n",
       "      <td>40691.192</td>\n",
       "      <td>40056.561</td>\n",
       "      <td>1.0</td>\n",
       "      <td>40951.399</td>\n",
       "      <td>40517.607</td>\n",
       "      <td>44708.944</td>\n",
       "      <td>56.582</td>\n",
       "      <td>50.812</td>\n",
       "      <td>49.859</td>\n",
       "    </tr>\n",
       "  </tbody>\n",
       "</table>\n",
       "</div>"
      ],
      "text/plain": [
       "             symbol      open      high       low     close  Volume BTC  Volume USD  short_mavg  \\\n",
       "date                                                                                              \n",
       "2022-03-18  BTC/USD  40963.22  42362.00  40068.88  41794.37    2125.123   8.882e+07   39961.558   \n",
       "2022-03-19  BTC/USD  41781.96  42405.01  41553.88  42235.31     976.889   4.126e+07   39989.087   \n",
       "2022-03-20  BTC/USD  42240.43  42324.06  40930.20  41242.14    1061.353   4.377e+07   40168.856   \n",
       "2022-03-21  BTC/USD  41293.19  41588.70  40516.86  41043.14    1779.498   7.304e+07   40400.191   \n",
       "2022-03-22  BTC/USD  41018.36  41867.13  40901.13  41732.03     210.062   8.766e+06   40691.192   \n",
       "\n",
       "            long_mavg  signal      EMA10      EMA30     EMA200   RSI10   RSI30  RSI200  \n",
       "date                                                                                    \n",
       "2022-03-18  39973.886     0.0  40239.939  40202.011  44837.414  58.136  50.926  49.870  \n",
       "2022-03-19  39971.518     1.0  40602.734  40333.192  44811.522  59.838  51.563  49.965  \n",
       "2022-03-20  39964.167     1.0  40718.989  40391.833  44776.006  54.312  50.049  49.752  \n",
       "2022-03-21  39969.285     1.0  40777.926  40433.853  44738.863  53.218  49.746  49.709  \n",
       "2022-03-22  40056.561     1.0  40951.399  40517.607  44708.944  56.582  50.812  49.859  "
      ]
     },
     "execution_count": 105,
     "metadata": {},
     "output_type": "execute_result"
    }
   ],
   "source": [
    "#calculation of exponential moving average\n",
    "def EMA(df, n):\n",
    "    EMA = pd.Series(btc_dataset[\"close\"].ewm(span=n, min_periods=n).mean(), name='EMA_' + str(n))\n",
    "    return EMA\n",
    "btc_dataset['EMA10'] = EMA(btc_dataset, 10)\n",
    "btc_dataset['EMA30'] = EMA(btc_dataset, 30)\n",
    "btc_dataset['EMA200'] = EMA(btc_dataset, 200)\n",
    "btc_dataset.head()\n",
    "\n",
    "\n",
    "\n",
    "#calculation of relative strength index\n",
    "def RSI(series, period):\n",
    " delta = series.diff().dropna()\n",
    " u = delta * 0\n",
    " d = u.copy()\n",
    " u[delta > 0] = delta[delta > 0]\n",
    " d[delta < 0] = -delta[delta < 0]\n",
    " u[u.index[period-1]] = np.mean( u[:period] ) #first value is sum of avg gains\n",
    " u = u.drop(u.index[:(period-1)])\n",
    " d[d.index[period-1]] = np.mean( d[:period] ) #first value is sum of avg losses\n",
    " d = d.drop(d.index[:(period-1)])\n",
    " rs = u.ewm(com=period-1, adjust=False).mean() / \\\n",
    " d.ewm(com=period-1, adjust=False).mean()\n",
    " return 100 - 100 / (1 + rs)\n",
    "\n",
    "btc_dataset['RSI10'] = RSI(btc_dataset['close'], 10)\n",
    "btc_dataset['RSI30'] = RSI(btc_dataset['close'], 30)\n",
    "btc_dataset['RSI200'] = RSI(btc_dataset['close'], 200)\n",
    "\n",
    "btc_dataset.tail()\n",
    "#dataset['%K10'] = STOK(dataset['Close'], dataset['Low'], dataset['High'], 10)\n",
    "#dataset['%D10'] = STOD(dataset['Close'], dataset['Low'], dataset['High'], 10)\n",
    "#dataset['%K30'] = STOK(dataset['Close'], dataset['Low'], dataset['High'], 30)\n",
    "#dataset['%D30'] = STOD(dataset['Close'], dataset['Low'], dataset['High'], 30)\n",
    "#dataset['%K200'] = STOK(dataset['Close'], dataset['Low'], dataset['High'], 200)\n",
    "#dataset['%D200'] = STOD(dataset['Close'], dataset['Low'], dataset['High'], 200)"
   ]
  },
  {
   "cell_type": "code",
   "execution_count": 106,
   "metadata": {
    "colab": {
     "base_uri": "https://localhost:8080/",
     "height": 270
    },
    "id": "UUlFJNlTC5nd",
    "outputId": "872ca0df-8bfe-455d-a322-e038914bb850"
   },
   "outputs": [
    {
     "data": {
      "text/html": [
       "<div>\n",
       "<style scoped>\n",
       "    .dataframe tbody tr th:only-of-type {\n",
       "        vertical-align: middle;\n",
       "    }\n",
       "\n",
       "    .dataframe tbody tr th {\n",
       "        vertical-align: top;\n",
       "    }\n",
       "\n",
       "    .dataframe thead th {\n",
       "        text-align: right;\n",
       "    }\n",
       "</style>\n",
       "<table border=\"1\" class=\"dataframe\">\n",
       "  <thead>\n",
       "    <tr style=\"text-align: right;\">\n",
       "      <th></th>\n",
       "      <th>symbol</th>\n",
       "      <th>open</th>\n",
       "      <th>high</th>\n",
       "      <th>low</th>\n",
       "      <th>close</th>\n",
       "      <th>Volume BTC</th>\n",
       "      <th>Volume USD</th>\n",
       "      <th>short_mavg</th>\n",
       "      <th>long_mavg</th>\n",
       "      <th>signal</th>\n",
       "      <th>EMA10</th>\n",
       "      <th>EMA30</th>\n",
       "      <th>EMA200</th>\n",
       "      <th>RSI10</th>\n",
       "      <th>RSI30</th>\n",
       "      <th>RSI200</th>\n",
       "      <th>MA21</th>\n",
       "      <th>MA63</th>\n",
       "      <th>MA252</th>\n",
       "    </tr>\n",
       "    <tr>\n",
       "      <th>date</th>\n",
       "      <th></th>\n",
       "      <th></th>\n",
       "      <th></th>\n",
       "      <th></th>\n",
       "      <th></th>\n",
       "      <th></th>\n",
       "      <th></th>\n",
       "      <th></th>\n",
       "      <th></th>\n",
       "      <th></th>\n",
       "      <th></th>\n",
       "      <th></th>\n",
       "      <th></th>\n",
       "      <th></th>\n",
       "      <th></th>\n",
       "      <th></th>\n",
       "      <th></th>\n",
       "      <th></th>\n",
       "      <th></th>\n",
       "    </tr>\n",
       "  </thead>\n",
       "  <tbody>\n",
       "    <tr>\n",
       "      <th>2022-03-18</th>\n",
       "      <td>BTC/USD</td>\n",
       "      <td>40963.22</td>\n",
       "      <td>42362.00</td>\n",
       "      <td>40068.88</td>\n",
       "      <td>41794.37</td>\n",
       "      <td>2125.123</td>\n",
       "      <td>8.882e+07</td>\n",
       "      <td>39961.558</td>\n",
       "      <td>39973.886</td>\n",
       "      <td>0.0</td>\n",
       "      <td>40239.939</td>\n",
       "      <td>40202.011</td>\n",
       "      <td>44837.414</td>\n",
       "      <td>58.136</td>\n",
       "      <td>50.926</td>\n",
       "      <td>49.870</td>\n",
       "      <td>39961.558</td>\n",
       "      <td>39785.915</td>\n",
       "      <td>48557.300</td>\n",
       "    </tr>\n",
       "    <tr>\n",
       "      <th>2022-03-19</th>\n",
       "      <td>BTC/USD</td>\n",
       "      <td>41781.96</td>\n",
       "      <td>42405.01</td>\n",
       "      <td>41553.88</td>\n",
       "      <td>42235.31</td>\n",
       "      <td>976.889</td>\n",
       "      <td>4.126e+07</td>\n",
       "      <td>39989.087</td>\n",
       "      <td>39971.518</td>\n",
       "      <td>1.0</td>\n",
       "      <td>40602.734</td>\n",
       "      <td>40333.192</td>\n",
       "      <td>44811.522</td>\n",
       "      <td>59.838</td>\n",
       "      <td>51.563</td>\n",
       "      <td>49.965</td>\n",
       "      <td>39989.087</td>\n",
       "      <td>39841.889</td>\n",
       "      <td>48532.696</td>\n",
       "    </tr>\n",
       "    <tr>\n",
       "      <th>2022-03-20</th>\n",
       "      <td>BTC/USD</td>\n",
       "      <td>42240.43</td>\n",
       "      <td>42324.06</td>\n",
       "      <td>40930.20</td>\n",
       "      <td>41242.14</td>\n",
       "      <td>1061.353</td>\n",
       "      <td>4.377e+07</td>\n",
       "      <td>40168.856</td>\n",
       "      <td>39964.167</td>\n",
       "      <td>1.0</td>\n",
       "      <td>40718.989</td>\n",
       "      <td>40391.833</td>\n",
       "      <td>44776.006</td>\n",
       "      <td>54.312</td>\n",
       "      <td>50.049</td>\n",
       "      <td>49.752</td>\n",
       "      <td>40168.856</td>\n",
       "      <td>39883.394</td>\n",
       "      <td>48494.640</td>\n",
       "    </tr>\n",
       "    <tr>\n",
       "      <th>2022-03-21</th>\n",
       "      <td>BTC/USD</td>\n",
       "      <td>41293.19</td>\n",
       "      <td>41588.70</td>\n",
       "      <td>40516.86</td>\n",
       "      <td>41043.14</td>\n",
       "      <td>1779.498</td>\n",
       "      <td>7.304e+07</td>\n",
       "      <td>40400.191</td>\n",
       "      <td>39969.285</td>\n",
       "      <td>1.0</td>\n",
       "      <td>40777.926</td>\n",
       "      <td>40433.853</td>\n",
       "      <td>44738.863</td>\n",
       "      <td>53.218</td>\n",
       "      <td>49.746</td>\n",
       "      <td>49.709</td>\n",
       "      <td>40400.191</td>\n",
       "      <td>39914.531</td>\n",
       "      <td>48453.481</td>\n",
       "    </tr>\n",
       "    <tr>\n",
       "      <th>2022-03-22</th>\n",
       "      <td>BTC/USD</td>\n",
       "      <td>41018.36</td>\n",
       "      <td>41867.13</td>\n",
       "      <td>40901.13</td>\n",
       "      <td>41732.03</td>\n",
       "      <td>210.062</td>\n",
       "      <td>8.766e+06</td>\n",
       "      <td>40691.192</td>\n",
       "      <td>40056.561</td>\n",
       "      <td>1.0</td>\n",
       "      <td>40951.399</td>\n",
       "      <td>40517.607</td>\n",
       "      <td>44708.944</td>\n",
       "      <td>56.582</td>\n",
       "      <td>50.812</td>\n",
       "      <td>49.859</td>\n",
       "      <td>40691.192</td>\n",
       "      <td>40026.469</td>\n",
       "      <td>48412.016</td>\n",
       "    </tr>\n",
       "  </tbody>\n",
       "</table>\n",
       "</div>"
      ],
      "text/plain": [
       "             symbol      open      high       low     close  Volume BTC  Volume USD  short_mavg  \\\n",
       "date                                                                                              \n",
       "2022-03-18  BTC/USD  40963.22  42362.00  40068.88  41794.37    2125.123   8.882e+07   39961.558   \n",
       "2022-03-19  BTC/USD  41781.96  42405.01  41553.88  42235.31     976.889   4.126e+07   39989.087   \n",
       "2022-03-20  BTC/USD  42240.43  42324.06  40930.20  41242.14    1061.353   4.377e+07   40168.856   \n",
       "2022-03-21  BTC/USD  41293.19  41588.70  40516.86  41043.14    1779.498   7.304e+07   40400.191   \n",
       "2022-03-22  BTC/USD  41018.36  41867.13  40901.13  41732.03     210.062   8.766e+06   40691.192   \n",
       "\n",
       "            long_mavg  signal      EMA10      EMA30     EMA200   RSI10   RSI30  RSI200       MA21  \\\n",
       "date                                                                                                \n",
       "2022-03-18  39973.886     0.0  40239.939  40202.011  44837.414  58.136  50.926  49.870  39961.558   \n",
       "2022-03-19  39971.518     1.0  40602.734  40333.192  44811.522  59.838  51.563  49.965  39989.087   \n",
       "2022-03-20  39964.167     1.0  40718.989  40391.833  44776.006  54.312  50.049  49.752  40168.856   \n",
       "2022-03-21  39969.285     1.0  40777.926  40433.853  44738.863  53.218  49.746  49.709  40400.191   \n",
       "2022-03-22  40056.561     1.0  40951.399  40517.607  44708.944  56.582  50.812  49.859  40691.192   \n",
       "\n",
       "                 MA63      MA252  \n",
       "date                              \n",
       "2022-03-18  39785.915  48557.300  \n",
       "2022-03-19  39841.889  48532.696  \n",
       "2022-03-20  39883.394  48494.640  \n",
       "2022-03-21  39914.531  48453.481  \n",
       "2022-03-22  40026.469  48412.016  "
      ]
     },
     "execution_count": 106,
     "metadata": {},
     "output_type": "execute_result"
    }
   ],
   "source": [
    "#Calculation of moving average\n",
    "def MA(df, n):\n",
    "    MA = pd.Series(btc_dataset['close'].rolling(n, min_periods=n).mean(), name='MA_' + str(n))\n",
    "    return MA\n",
    "btc_dataset['MA21'] = MA(btc_dataset, 10)\n",
    "btc_dataset['MA63'] = MA(btc_dataset, 30)\n",
    "btc_dataset['MA252'] = MA(btc_dataset, 200)\n",
    "btc_dataset.tail()"
   ]
  },
  {
   "cell_type": "code",
   "execution_count": 107,
   "metadata": {
    "colab": {
     "base_uri": "https://localhost:8080/",
     "height": 270
    },
    "id": "HnvYYt0EC5ne",
    "outputId": "c15a35e1-55ec-4ba3-f0cc-6e76a8c7c1c7"
   },
   "outputs": [
    {
     "data": {
      "text/html": [
       "<div>\n",
       "<style scoped>\n",
       "    .dataframe tbody tr th:only-of-type {\n",
       "        vertical-align: middle;\n",
       "    }\n",
       "\n",
       "    .dataframe tbody tr th {\n",
       "        vertical-align: top;\n",
       "    }\n",
       "\n",
       "    .dataframe thead th {\n",
       "        text-align: right;\n",
       "    }\n",
       "</style>\n",
       "<table border=\"1\" class=\"dataframe\">\n",
       "  <thead>\n",
       "    <tr style=\"text-align: right;\">\n",
       "      <th></th>\n",
       "      <th>symbol</th>\n",
       "      <th>open</th>\n",
       "      <th>high</th>\n",
       "      <th>low</th>\n",
       "      <th>close</th>\n",
       "      <th>Volume BTC</th>\n",
       "      <th>Volume USD</th>\n",
       "      <th>short_mavg</th>\n",
       "      <th>long_mavg</th>\n",
       "      <th>signal</th>\n",
       "      <th>EMA10</th>\n",
       "      <th>EMA30</th>\n",
       "      <th>EMA200</th>\n",
       "      <th>RSI10</th>\n",
       "      <th>RSI30</th>\n",
       "      <th>RSI200</th>\n",
       "      <th>MA21</th>\n",
       "      <th>MA63</th>\n",
       "      <th>MA252</th>\n",
       "    </tr>\n",
       "    <tr>\n",
       "      <th>date</th>\n",
       "      <th></th>\n",
       "      <th></th>\n",
       "      <th></th>\n",
       "      <th></th>\n",
       "      <th></th>\n",
       "      <th></th>\n",
       "      <th></th>\n",
       "      <th></th>\n",
       "      <th></th>\n",
       "      <th></th>\n",
       "      <th></th>\n",
       "      <th></th>\n",
       "      <th></th>\n",
       "      <th></th>\n",
       "      <th></th>\n",
       "      <th></th>\n",
       "      <th></th>\n",
       "      <th></th>\n",
       "      <th></th>\n",
       "    </tr>\n",
       "  </thead>\n",
       "  <tbody>\n",
       "    <tr>\n",
       "      <th>2022-03-13</th>\n",
       "      <td>BTC/USD</td>\n",
       "      <td>38798.68</td>\n",
       "      <td>39312.50</td>\n",
       "      <td>37595.62</td>\n",
       "      <td>37790.54</td>\n",
       "      <td>737.880</td>\n",
       "      <td>2.788e+07</td>\n",
       "      <td>39054.818</td>\n",
       "      <td>40161.725</td>\n",
       "      <td>0.0</td>\n",
       "      <td>39258.113</td>\n",
       "      <td>40023.642</td>\n",
       "      <td>45055.411</td>\n",
       "      <td>41.795</td>\n",
       "      <td>44.924</td>\n",
       "      <td>49.002</td>\n",
       "      <td>39054.818</td>\n",
       "      <td>40201.727</td>\n",
       "      <td>48746.478</td>\n",
       "    </tr>\n",
       "    <tr>\n",
       "      <th>2022-03-14</th>\n",
       "      <td>BTC/USD</td>\n",
       "      <td>37763.37</td>\n",
       "      <td>39913.42</td>\n",
       "      <td>37567.19</td>\n",
       "      <td>39665.71</td>\n",
       "      <td>1439.768</td>\n",
       "      <td>5.711e+07</td>\n",
       "      <td>39103.833</td>\n",
       "      <td>40113.287</td>\n",
       "      <td>0.0</td>\n",
       "      <td>39332.221</td>\n",
       "      <td>40000.549</td>\n",
       "      <td>45001.782</td>\n",
       "      <td>49.920</td>\n",
       "      <td>47.776</td>\n",
       "      <td>49.409</td>\n",
       "      <td>39103.833</td>\n",
       "      <td>40115.880</td>\n",
       "      <td>48710.525</td>\n",
       "    </tr>\n",
       "    <tr>\n",
       "      <th>2022-03-15</th>\n",
       "      <td>BTC/USD</td>\n",
       "      <td>39688.55</td>\n",
       "      <td>39896.13</td>\n",
       "      <td>38142.35</td>\n",
       "      <td>39302.70</td>\n",
       "      <td>1638.684</td>\n",
       "      <td>6.440e+07</td>\n",
       "      <td>39092.424</td>\n",
       "      <td>40049.960</td>\n",
       "      <td>0.0</td>\n",
       "      <td>39326.854</td>\n",
       "      <td>39955.527</td>\n",
       "      <td>44945.075</td>\n",
       "      <td>48.465</td>\n",
       "      <td>47.286</td>\n",
       "      <td>49.333</td>\n",
       "      <td>39092.424</td>\n",
       "      <td>40023.379</td>\n",
       "      <td>48661.536</td>\n",
       "    </tr>\n",
       "    <tr>\n",
       "      <th>2022-03-16</th>\n",
       "      <td>BTC/USD</td>\n",
       "      <td>39302.80</td>\n",
       "      <td>41693.97</td>\n",
       "      <td>38865.67</td>\n",
       "      <td>41142.76</td>\n",
       "      <td>5987.104</td>\n",
       "      <td>2.463e+08</td>\n",
       "      <td>39362.811</td>\n",
       "      <td>40017.306</td>\n",
       "      <td>0.0</td>\n",
       "      <td>39657.019</td>\n",
       "      <td>40032.122</td>\n",
       "      <td>44907.241</td>\n",
       "      <td>55.733</td>\n",
       "      <td>49.977</td>\n",
       "      <td>49.730</td>\n",
       "      <td>39362.811</td>\n",
       "      <td>39976.794</td>\n",
       "      <td>48622.573</td>\n",
       "    </tr>\n",
       "    <tr>\n",
       "      <th>2022-03-17</th>\n",
       "      <td>BTC/USD</td>\n",
       "      <td>41142.76</td>\n",
       "      <td>41497.24</td>\n",
       "      <td>40449.06</td>\n",
       "      <td>40963.22</td>\n",
       "      <td>1657.762</td>\n",
       "      <td>6.791e+07</td>\n",
       "      <td>39657.486</td>\n",
       "      <td>39981.564</td>\n",
       "      <td>0.0</td>\n",
       "      <td>39894.510</td>\n",
       "      <td>40092.193</td>\n",
       "      <td>44867.997</td>\n",
       "      <td>54.893</td>\n",
       "      <td>49.721</td>\n",
       "      <td>49.691</td>\n",
       "      <td>39657.486</td>\n",
       "      <td>39856.152</td>\n",
       "      <td>48583.346</td>\n",
       "    </tr>\n",
       "    <tr>\n",
       "      <th>2022-03-18</th>\n",
       "      <td>BTC/USD</td>\n",
       "      <td>40963.22</td>\n",
       "      <td>42362.00</td>\n",
       "      <td>40068.88</td>\n",
       "      <td>41794.37</td>\n",
       "      <td>2125.123</td>\n",
       "      <td>8.882e+07</td>\n",
       "      <td>39961.558</td>\n",
       "      <td>39973.886</td>\n",
       "      <td>0.0</td>\n",
       "      <td>40239.939</td>\n",
       "      <td>40202.011</td>\n",
       "      <td>44837.414</td>\n",
       "      <td>58.136</td>\n",
       "      <td>50.926</td>\n",
       "      <td>49.870</td>\n",
       "      <td>39961.558</td>\n",
       "      <td>39785.915</td>\n",
       "      <td>48557.300</td>\n",
       "    </tr>\n",
       "    <tr>\n",
       "      <th>2022-03-19</th>\n",
       "      <td>BTC/USD</td>\n",
       "      <td>41781.96</td>\n",
       "      <td>42405.01</td>\n",
       "      <td>41553.88</td>\n",
       "      <td>42235.31</td>\n",
       "      <td>976.889</td>\n",
       "      <td>4.126e+07</td>\n",
       "      <td>39989.087</td>\n",
       "      <td>39971.518</td>\n",
       "      <td>1.0</td>\n",
       "      <td>40602.734</td>\n",
       "      <td>40333.192</td>\n",
       "      <td>44811.522</td>\n",
       "      <td>59.838</td>\n",
       "      <td>51.563</td>\n",
       "      <td>49.965</td>\n",
       "      <td>39989.087</td>\n",
       "      <td>39841.889</td>\n",
       "      <td>48532.696</td>\n",
       "    </tr>\n",
       "    <tr>\n",
       "      <th>2022-03-20</th>\n",
       "      <td>BTC/USD</td>\n",
       "      <td>42240.43</td>\n",
       "      <td>42324.06</td>\n",
       "      <td>40930.20</td>\n",
       "      <td>41242.14</td>\n",
       "      <td>1061.353</td>\n",
       "      <td>4.377e+07</td>\n",
       "      <td>40168.856</td>\n",
       "      <td>39964.167</td>\n",
       "      <td>1.0</td>\n",
       "      <td>40718.989</td>\n",
       "      <td>40391.833</td>\n",
       "      <td>44776.006</td>\n",
       "      <td>54.312</td>\n",
       "      <td>50.049</td>\n",
       "      <td>49.752</td>\n",
       "      <td>40168.856</td>\n",
       "      <td>39883.394</td>\n",
       "      <td>48494.640</td>\n",
       "    </tr>\n",
       "    <tr>\n",
       "      <th>2022-03-21</th>\n",
       "      <td>BTC/USD</td>\n",
       "      <td>41293.19</td>\n",
       "      <td>41588.70</td>\n",
       "      <td>40516.86</td>\n",
       "      <td>41043.14</td>\n",
       "      <td>1779.498</td>\n",
       "      <td>7.304e+07</td>\n",
       "      <td>40400.191</td>\n",
       "      <td>39969.285</td>\n",
       "      <td>1.0</td>\n",
       "      <td>40777.926</td>\n",
       "      <td>40433.853</td>\n",
       "      <td>44738.863</td>\n",
       "      <td>53.218</td>\n",
       "      <td>49.746</td>\n",
       "      <td>49.709</td>\n",
       "      <td>40400.191</td>\n",
       "      <td>39914.531</td>\n",
       "      <td>48453.481</td>\n",
       "    </tr>\n",
       "    <tr>\n",
       "      <th>2022-03-22</th>\n",
       "      <td>BTC/USD</td>\n",
       "      <td>41018.36</td>\n",
       "      <td>41867.13</td>\n",
       "      <td>40901.13</td>\n",
       "      <td>41732.03</td>\n",
       "      <td>210.062</td>\n",
       "      <td>8.766e+06</td>\n",
       "      <td>40691.192</td>\n",
       "      <td>40056.561</td>\n",
       "      <td>1.0</td>\n",
       "      <td>40951.399</td>\n",
       "      <td>40517.607</td>\n",
       "      <td>44708.944</td>\n",
       "      <td>56.582</td>\n",
       "      <td>50.812</td>\n",
       "      <td>49.859</td>\n",
       "      <td>40691.192</td>\n",
       "      <td>40026.469</td>\n",
       "      <td>48412.016</td>\n",
       "    </tr>\n",
       "  </tbody>\n",
       "</table>\n",
       "</div>"
      ],
      "text/plain": [
       "             symbol      open      high       low     close  Volume BTC  Volume USD  short_mavg  \\\n",
       "date                                                                                              \n",
       "2022-03-13  BTC/USD  38798.68  39312.50  37595.62  37790.54     737.880   2.788e+07   39054.818   \n",
       "2022-03-14  BTC/USD  37763.37  39913.42  37567.19  39665.71    1439.768   5.711e+07   39103.833   \n",
       "2022-03-15  BTC/USD  39688.55  39896.13  38142.35  39302.70    1638.684   6.440e+07   39092.424   \n",
       "2022-03-16  BTC/USD  39302.80  41693.97  38865.67  41142.76    5987.104   2.463e+08   39362.811   \n",
       "2022-03-17  BTC/USD  41142.76  41497.24  40449.06  40963.22    1657.762   6.791e+07   39657.486   \n",
       "2022-03-18  BTC/USD  40963.22  42362.00  40068.88  41794.37    2125.123   8.882e+07   39961.558   \n",
       "2022-03-19  BTC/USD  41781.96  42405.01  41553.88  42235.31     976.889   4.126e+07   39989.087   \n",
       "2022-03-20  BTC/USD  42240.43  42324.06  40930.20  41242.14    1061.353   4.377e+07   40168.856   \n",
       "2022-03-21  BTC/USD  41293.19  41588.70  40516.86  41043.14    1779.498   7.304e+07   40400.191   \n",
       "2022-03-22  BTC/USD  41018.36  41867.13  40901.13  41732.03     210.062   8.766e+06   40691.192   \n",
       "\n",
       "            long_mavg  signal      EMA10      EMA30     EMA200   RSI10   RSI30  RSI200       MA21  \\\n",
       "date                                                                                                \n",
       "2022-03-13  40161.725     0.0  39258.113  40023.642  45055.411  41.795  44.924  49.002  39054.818   \n",
       "2022-03-14  40113.287     0.0  39332.221  40000.549  45001.782  49.920  47.776  49.409  39103.833   \n",
       "2022-03-15  40049.960     0.0  39326.854  39955.527  44945.075  48.465  47.286  49.333  39092.424   \n",
       "2022-03-16  40017.306     0.0  39657.019  40032.122  44907.241  55.733  49.977  49.730  39362.811   \n",
       "2022-03-17  39981.564     0.0  39894.510  40092.193  44867.997  54.893  49.721  49.691  39657.486   \n",
       "2022-03-18  39973.886     0.0  40239.939  40202.011  44837.414  58.136  50.926  49.870  39961.558   \n",
       "2022-03-19  39971.518     1.0  40602.734  40333.192  44811.522  59.838  51.563  49.965  39989.087   \n",
       "2022-03-20  39964.167     1.0  40718.989  40391.833  44776.006  54.312  50.049  49.752  40168.856   \n",
       "2022-03-21  39969.285     1.0  40777.926  40433.853  44738.863  53.218  49.746  49.709  40400.191   \n",
       "2022-03-22  40056.561     1.0  40951.399  40517.607  44708.944  56.582  50.812  49.859  40691.192   \n",
       "\n",
       "                 MA63      MA252  \n",
       "date                              \n",
       "2022-03-13  40201.727  48746.478  \n",
       "2022-03-14  40115.880  48710.525  \n",
       "2022-03-15  40023.379  48661.536  \n",
       "2022-03-16  39976.794  48622.573  \n",
       "2022-03-17  39856.152  48583.346  \n",
       "2022-03-18  39785.915  48557.300  \n",
       "2022-03-19  39841.889  48532.696  \n",
       "2022-03-20  39883.394  48494.640  \n",
       "2022-03-21  39914.531  48453.481  \n",
       "2022-03-22  40026.469  48412.016  "
      ]
     },
     "execution_count": 107,
     "metadata": {},
     "output_type": "execute_result"
    }
   ],
   "source": [
    "btc_dataset.tail(10)"
   ]
  },
  {
   "cell_type": "code",
   "execution_count": 108,
   "metadata": {
    "id": "a6d9focdC5ne"
   },
   "outputs": [],
   "source": [
    "#excluding columns that are not needed for our prediction.\n",
    "\n",
    "btc_dataset_dr = btc_dataset.drop(['symbol','high','low','open', 'short_mavg','long_mavg'], axis=1)"
   ]
  },
  {
   "cell_type": "code",
   "execution_count": 109,
   "metadata": {
    "id": "ssls8EiLC5nf"
   },
   "outputs": [],
   "source": [
    "btc_dataset_dr = btc_dataset_dr.dropna(axis=0)"
   ]
  },
  {
   "cell_type": "code",
   "execution_count": 110,
   "metadata": {
    "colab": {
     "base_uri": "https://localhost:8080/",
     "height": 207
    },
    "id": "kfpzAixQC5nf",
    "outputId": "7c272098-8c3a-4f2f-8708-37305a708b42"
   },
   "outputs": [
    {
     "data": {
      "text/html": [
       "<div>\n",
       "<style scoped>\n",
       "    .dataframe tbody tr th:only-of-type {\n",
       "        vertical-align: middle;\n",
       "    }\n",
       "\n",
       "    .dataframe tbody tr th {\n",
       "        vertical-align: top;\n",
       "    }\n",
       "\n",
       "    .dataframe thead th {\n",
       "        text-align: right;\n",
       "    }\n",
       "</style>\n",
       "<table border=\"1\" class=\"dataframe\">\n",
       "  <thead>\n",
       "    <tr style=\"text-align: right;\">\n",
       "      <th></th>\n",
       "      <th>close</th>\n",
       "      <th>Volume BTC</th>\n",
       "      <th>Volume USD</th>\n",
       "      <th>signal</th>\n",
       "      <th>EMA10</th>\n",
       "      <th>EMA30</th>\n",
       "      <th>EMA200</th>\n",
       "      <th>RSI10</th>\n",
       "      <th>RSI30</th>\n",
       "      <th>RSI200</th>\n",
       "      <th>MA21</th>\n",
       "      <th>MA63</th>\n",
       "      <th>MA252</th>\n",
       "    </tr>\n",
       "    <tr>\n",
       "      <th>date</th>\n",
       "      <th></th>\n",
       "      <th></th>\n",
       "      <th></th>\n",
       "      <th></th>\n",
       "      <th></th>\n",
       "      <th></th>\n",
       "      <th></th>\n",
       "      <th></th>\n",
       "      <th></th>\n",
       "      <th></th>\n",
       "      <th></th>\n",
       "      <th></th>\n",
       "      <th></th>\n",
       "    </tr>\n",
       "  </thead>\n",
       "  <tbody>\n",
       "    <tr>\n",
       "      <th>2022-03-18</th>\n",
       "      <td>41794.37</td>\n",
       "      <td>2125.123</td>\n",
       "      <td>8.882e+07</td>\n",
       "      <td>0.0</td>\n",
       "      <td>40239.939</td>\n",
       "      <td>40202.011</td>\n",
       "      <td>44837.414</td>\n",
       "      <td>58.136</td>\n",
       "      <td>50.926</td>\n",
       "      <td>49.870</td>\n",
       "      <td>39961.558</td>\n",
       "      <td>39785.915</td>\n",
       "      <td>48557.300</td>\n",
       "    </tr>\n",
       "    <tr>\n",
       "      <th>2022-03-19</th>\n",
       "      <td>42235.31</td>\n",
       "      <td>976.889</td>\n",
       "      <td>4.126e+07</td>\n",
       "      <td>1.0</td>\n",
       "      <td>40602.734</td>\n",
       "      <td>40333.192</td>\n",
       "      <td>44811.522</td>\n",
       "      <td>59.838</td>\n",
       "      <td>51.563</td>\n",
       "      <td>49.965</td>\n",
       "      <td>39989.087</td>\n",
       "      <td>39841.889</td>\n",
       "      <td>48532.696</td>\n",
       "    </tr>\n",
       "    <tr>\n",
       "      <th>2022-03-20</th>\n",
       "      <td>41242.14</td>\n",
       "      <td>1061.353</td>\n",
       "      <td>4.377e+07</td>\n",
       "      <td>1.0</td>\n",
       "      <td>40718.989</td>\n",
       "      <td>40391.833</td>\n",
       "      <td>44776.006</td>\n",
       "      <td>54.312</td>\n",
       "      <td>50.049</td>\n",
       "      <td>49.752</td>\n",
       "      <td>40168.856</td>\n",
       "      <td>39883.394</td>\n",
       "      <td>48494.640</td>\n",
       "    </tr>\n",
       "    <tr>\n",
       "      <th>2022-03-21</th>\n",
       "      <td>41043.14</td>\n",
       "      <td>1779.498</td>\n",
       "      <td>7.304e+07</td>\n",
       "      <td>1.0</td>\n",
       "      <td>40777.926</td>\n",
       "      <td>40433.853</td>\n",
       "      <td>44738.863</td>\n",
       "      <td>53.218</td>\n",
       "      <td>49.746</td>\n",
       "      <td>49.709</td>\n",
       "      <td>40400.191</td>\n",
       "      <td>39914.531</td>\n",
       "      <td>48453.481</td>\n",
       "    </tr>\n",
       "    <tr>\n",
       "      <th>2022-03-22</th>\n",
       "      <td>41732.03</td>\n",
       "      <td>210.062</td>\n",
       "      <td>8.766e+06</td>\n",
       "      <td>1.0</td>\n",
       "      <td>40951.399</td>\n",
       "      <td>40517.607</td>\n",
       "      <td>44708.944</td>\n",
       "      <td>56.582</td>\n",
       "      <td>50.812</td>\n",
       "      <td>49.859</td>\n",
       "      <td>40691.192</td>\n",
       "      <td>40026.469</td>\n",
       "      <td>48412.016</td>\n",
       "    </tr>\n",
       "  </tbody>\n",
       "</table>\n",
       "</div>"
      ],
      "text/plain": [
       "               close  Volume BTC  Volume USD  signal      EMA10      EMA30     EMA200   RSI10  \\\n",
       "date                                                                                            \n",
       "2022-03-18  41794.37    2125.123   8.882e+07     0.0  40239.939  40202.011  44837.414  58.136   \n",
       "2022-03-19  42235.31     976.889   4.126e+07     1.0  40602.734  40333.192  44811.522  59.838   \n",
       "2022-03-20  41242.14    1061.353   4.377e+07     1.0  40718.989  40391.833  44776.006  54.312   \n",
       "2022-03-21  41043.14    1779.498   7.304e+07     1.0  40777.926  40433.853  44738.863  53.218   \n",
       "2022-03-22  41732.03     210.062   8.766e+06     1.0  40951.399  40517.607  44708.944  56.582   \n",
       "\n",
       "             RSI30  RSI200       MA21       MA63      MA252  \n",
       "date                                                         \n",
       "2022-03-18  50.926  49.870  39961.558  39785.915  48557.300  \n",
       "2022-03-19  51.563  49.965  39989.087  39841.889  48532.696  \n",
       "2022-03-20  50.049  49.752  40168.856  39883.394  48494.640  \n",
       "2022-03-21  49.746  49.709  40400.191  39914.531  48453.481  \n",
       "2022-03-22  50.812  49.859  40691.192  40026.469  48412.016  "
      ]
     },
     "execution_count": 110,
     "metadata": {},
     "output_type": "execute_result"
    }
   ],
   "source": [
    "btc_dataset_dr.tail()"
   ]
  },
  {
   "cell_type": "markdown",
   "metadata": {
    "id": "ND_iNplqC5nf"
   },
   "source": [
    "<a id='3.4'></a>\n",
    "## 4.4. Data Visualization"
   ]
  },
  {
   "cell_type": "code",
   "execution_count": 141,
   "metadata": {
    "colab": {
     "base_uri": "https://localhost:8080/",
     "height": 279
    },
    "id": "mF2Va40jC5ng",
    "outputId": "6cfa8647-42a7-4be0-ec98-2e363c8cdfea"
   },
   "outputs": [
    {
     "data": {
      "image/png": "[encoded data removed]",
      "text/plain": [
       "<Figure size 1080x360 with 1 Axes>"
      ]
     },
     "metadata": {
      "needs_background": "light"
     },
     "output_type": "display_data"
    }
   ],
   "source": [
    "#Reminder to put something meaningful here!\n",
    "\n",
    "btc_dataset_dr[['EMA10','EMA30', 'EMA200']].plot(grid=True, figsize=(15,5), ylabel='Price')\n",
    "plt.show()"
   ]
  },
  {
   "cell_type": "code",
   "execution_count": 112,
   "metadata": {
    "colab": {
     "base_uri": "https://localhost:8080/",
     "height": 706
    },
    "id": "lvEw8jqIC5ng",
    "outputId": "18dbd2fe-bc1a-4dd0-8558-be48d8508cc9"
   },
   "outputs": [
    {
     "data": {
      "image/png": "[encoded data removed]",
      "text/plain": [
       "<Figure size 864x864 with 16 Axes>"
      ]
     },
     "metadata": {
      "needs_background": "light"
     },
     "output_type": "display_data"
    }
   ],
   "source": [
    "# histograms\n",
    "btc_dataset_dr.hist(sharex=False, sharey=False, xlabelsize=1, ylabelsize=1, figsize=(12,12))\n",
    "plt.show()"
   ]
  },
  {
   "cell_type": "code",
   "execution_count": 145,
   "metadata": {
    "colab": {
     "base_uri": "https://localhost:8080/",
     "height": 277
    },
    "id": "Lw4I7cPBC5nh",
    "outputId": "c8b44b7f-00e2-481f-9b6e-99e7765d836f"
   },
   "outputs": [
    {
     "data": {
      "image/png": "[encoded data removed]",
      "text/plain": [
       "<Figure size 432x288 with 1 Axes>"
      ]
     },
     "metadata": {
      "needs_background": "light"
     },
     "output_type": "display_data"
    }
   ],
   "source": [
    "btc_dataset_dr.groupby(['signal']).size().plot(kind='bar', color='red', title = (\"Buy(1.0) Signals vs. Sell(0.0) Signals\"))\n",
    "plt.show()"
   ]
  },
  {
   "cell_type": "code",
   "execution_count": 143,
   "metadata": {},
   "outputs": [
    {
     "data": {
      "text/plain": [
       "1.0    1505\n",
       "0.0     967\n",
       "Name: signal, dtype: int64"
      ]
     },
     "execution_count": 143,
     "metadata": {},
     "output_type": "execute_result"
    }
   ],
   "source": [
    "y.value_counts()"
   ]
  },
  {
   "cell_type": "markdown",
   "metadata": {
    "id": "hTjBbUcpC5nh"
   },
   "source": [
    "According to this chart, the number of buy signals outnumbered sell signals 61% to 39%"
   ]
  },
  {
   "cell_type": "code",
   "execution_count": 146,
   "metadata": {
    "colab": {
     "base_uri": "https://localhost:8080/",
     "height": 879
    },
    "id": "ZDQofp_vC5nh",
    "outputId": "d9a4124f-a242-47b0-b496-387c52c84fc4"
   },
   "outputs": [
    {
     "data": {
      "text/plain": [
       "<AxesSubplot:title={'center':'Correlation Matrix'}>"
      ]
     },
     "execution_count": 146,
     "metadata": {},
     "output_type": "execute_result"
    },
    {
     "data": {
      "image/png": "[encoded data removed]",
      "text/plain": [
       "<Figure size 1080x1080 with 2 Axes>"
      ]
     },
     "metadata": {
      "needs_background": "light"
     },
     "output_type": "display_data"
    }
   ],
   "source": [
    "# correlation\n",
    "correlation = btc_dataset_dr.corr()\n",
    "plt.figure(figsize=(15,15))\n",
    "plt.title('Correlation Matrix')\n",
    "sns.heatmap(correlation, vmax=1, square=True,annot=True,cmap='BrBG')"
   ]
  },
  {
   "cell_type": "markdown",
   "metadata": {
    "id": "6ynsMaPBC5nh"
   },
   "source": [
    "<a id='4'></a>\n",
    "# 5. Evaluate Algorithms and Models"
   ]
  },
  {
   "cell_type": "markdown",
   "metadata": {
    "id": "LP1-N1gYC5ni"
   },
   "source": [
    "<a id='4.1'></a>\n",
    "## 5.1. Train Test Split"
   ]
  },
  {
   "cell_type": "markdown",
   "metadata": {
    "id": "iTn046dcC5ni"
   },
   "source": []
  },
  {
   "cell_type": "code",
   "execution_count": 115,
   "metadata": {
    "id": "1-7yT9eBC5ni"
   },
   "outputs": [
    {
     "data": {
      "text/html": [
       "<div>\n",
       "<style scoped>\n",
       "    .dataframe tbody tr th:only-of-type {\n",
       "        vertical-align: middle;\n",
       "    }\n",
       "\n",
       "    .dataframe tbody tr th {\n",
       "        vertical-align: top;\n",
       "    }\n",
       "\n",
       "    .dataframe thead th {\n",
       "        text-align: right;\n",
       "    }\n",
       "</style>\n",
       "<table border=\"1\" class=\"dataframe\">\n",
       "  <thead>\n",
       "    <tr style=\"text-align: right;\">\n",
       "      <th></th>\n",
       "      <th>EMA10</th>\n",
       "      <th>EMA30</th>\n",
       "      <th>EMA200</th>\n",
       "    </tr>\n",
       "    <tr>\n",
       "      <th>date</th>\n",
       "      <th></th>\n",
       "      <th></th>\n",
       "      <th></th>\n",
       "    </tr>\n",
       "  </thead>\n",
       "  <tbody>\n",
       "    <tr>\n",
       "      <th>2015-06-17</th>\n",
       "      <td>233.739</td>\n",
       "      <td>232.113</td>\n",
       "      <td>246.337</td>\n",
       "    </tr>\n",
       "    <tr>\n",
       "      <th>2015-06-18</th>\n",
       "      <td>235.929</td>\n",
       "      <td>232.995</td>\n",
       "      <td>246.331</td>\n",
       "    </tr>\n",
       "    <tr>\n",
       "      <th>2015-06-19</th>\n",
       "      <td>238.140</td>\n",
       "      <td>233.969</td>\n",
       "      <td>246.351</td>\n",
       "    </tr>\n",
       "    <tr>\n",
       "      <th>2015-06-20</th>\n",
       "      <td>239.100</td>\n",
       "      <td>234.578</td>\n",
       "      <td>246.318</td>\n",
       "    </tr>\n",
       "    <tr>\n",
       "      <th>2015-06-21</th>\n",
       "      <td>240.116</td>\n",
       "      <td>235.231</td>\n",
       "      <td>246.299</td>\n",
       "    </tr>\n",
       "  </tbody>\n",
       "</table>\n",
       "</div>"
      ],
      "text/plain": [
       "              EMA10    EMA30   EMA200\n",
       "date                                 \n",
       "2015-06-17  233.739  232.113  246.337\n",
       "2015-06-18  235.929  232.995  246.331\n",
       "2015-06-19  238.140  233.969  246.351\n",
       "2015-06-20  239.100  234.578  246.318\n",
       "2015-06-21  240.116  235.231  246.299"
      ]
     },
     "metadata": {},
     "output_type": "display_data"
    },
    {
     "data": {
      "text/html": [
       "<div>\n",
       "<style scoped>\n",
       "    .dataframe tbody tr th:only-of-type {\n",
       "        vertical-align: middle;\n",
       "    }\n",
       "\n",
       "    .dataframe tbody tr th {\n",
       "        vertical-align: top;\n",
       "    }\n",
       "\n",
       "    .dataframe thead th {\n",
       "        text-align: right;\n",
       "    }\n",
       "</style>\n",
       "<table border=\"1\" class=\"dataframe\">\n",
       "  <thead>\n",
       "    <tr style=\"text-align: right;\">\n",
       "      <th></th>\n",
       "      <th>EMA10</th>\n",
       "      <th>EMA30</th>\n",
       "      <th>EMA200</th>\n",
       "    </tr>\n",
       "    <tr>\n",
       "      <th>date</th>\n",
       "      <th></th>\n",
       "      <th></th>\n",
       "      <th></th>\n",
       "    </tr>\n",
       "  </thead>\n",
       "  <tbody>\n",
       "    <tr>\n",
       "      <th>2022-03-18</th>\n",
       "      <td>39894.510</td>\n",
       "      <td>40092.193</td>\n",
       "      <td>44867.997</td>\n",
       "    </tr>\n",
       "    <tr>\n",
       "      <th>2022-03-19</th>\n",
       "      <td>40239.939</td>\n",
       "      <td>40202.011</td>\n",
       "      <td>44837.414</td>\n",
       "    </tr>\n",
       "    <tr>\n",
       "      <th>2022-03-20</th>\n",
       "      <td>40602.734</td>\n",
       "      <td>40333.192</td>\n",
       "      <td>44811.522</td>\n",
       "    </tr>\n",
       "    <tr>\n",
       "      <th>2022-03-21</th>\n",
       "      <td>40718.989</td>\n",
       "      <td>40391.833</td>\n",
       "      <td>44776.006</td>\n",
       "    </tr>\n",
       "    <tr>\n",
       "      <th>2022-03-22</th>\n",
       "      <td>40777.926</td>\n",
       "      <td>40433.853</td>\n",
       "      <td>44738.863</td>\n",
       "    </tr>\n",
       "  </tbody>\n",
       "</table>\n",
       "</div>"
      ],
      "text/plain": [
       "                EMA10      EMA30     EMA200\n",
       "date                                       \n",
       "2022-03-18  39894.510  40092.193  44867.997\n",
       "2022-03-19  40239.939  40202.011  44837.414\n",
       "2022-03-20  40602.734  40333.192  44811.522\n",
       "2022-03-21  40718.989  40391.833  44776.006\n",
       "2022-03-22  40777.926  40433.853  44738.863"
      ]
     },
     "metadata": {},
     "output_type": "display_data"
    }
   ],
   "source": [
    "X = btc_dataset_dr[['EMA10','EMA30', 'EMA200']].shift().dropna()\n",
    "\n",
    "# Display sample data\n",
    "display(X.head())\n",
    "display(X.tail())\n"
   ]
  },
  {
   "cell_type": "code",
   "execution_count": 116,
   "metadata": {},
   "outputs": [],
   "source": [
    "#is copy needed?\n",
    "y = btc_dataset_dr['signal']\n"
   ]
  },
  {
   "cell_type": "code",
   "execution_count": 117,
   "metadata": {},
   "outputs": [
    {
     "name": "stdout",
     "output_type": "stream",
     "text": [
      "2015-06-17 00:00:00\n",
      "2021-06-18 00:00:00\n"
     ]
    }
   ],
   "source": [
    "from pandas.tseries.offsets import DateOffset\n",
    "training_begin = X.index.min()\n",
    "\n",
    "# Display the training begin date\n",
    "print(training_begin)\n",
    "\n",
    "training_end = X.index.min() + DateOffset(years=6)\n",
    "training_end_delta = training_end + DateOffset(days=1)\n",
    "\n",
    "print(training_end_delta)"
   ]
  },
  {
   "cell_type": "code",
   "execution_count": 118,
   "metadata": {},
   "outputs": [
    {
     "data": {
      "text/html": [
       "<div>\n",
       "<style scoped>\n",
       "    .dataframe tbody tr th:only-of-type {\n",
       "        vertical-align: middle;\n",
       "    }\n",
       "\n",
       "    .dataframe tbody tr th {\n",
       "        vertical-align: top;\n",
       "    }\n",
       "\n",
       "    .dataframe thead th {\n",
       "        text-align: right;\n",
       "    }\n",
       "</style>\n",
       "<table border=\"1\" class=\"dataframe\">\n",
       "  <thead>\n",
       "    <tr style=\"text-align: right;\">\n",
       "      <th></th>\n",
       "      <th>EMA10</th>\n",
       "      <th>EMA30</th>\n",
       "      <th>EMA200</th>\n",
       "    </tr>\n",
       "    <tr>\n",
       "      <th>date</th>\n",
       "      <th></th>\n",
       "      <th></th>\n",
       "      <th></th>\n",
       "    </tr>\n",
       "  </thead>\n",
       "  <tbody>\n",
       "    <tr>\n",
       "      <th>2021-06-13</th>\n",
       "      <td>36276.775</td>\n",
       "      <td>39585.251</td>\n",
       "      <td>40979.077</td>\n",
       "    </tr>\n",
       "    <tr>\n",
       "      <th>2021-06-14</th>\n",
       "      <td>36774.408</td>\n",
       "      <td>39548.381</td>\n",
       "      <td>40959.521</td>\n",
       "    </tr>\n",
       "    <tr>\n",
       "      <th>2021-06-15</th>\n",
       "      <td>37457.750</td>\n",
       "      <td>39611.891</td>\n",
       "      <td>40955.275</td>\n",
       "    </tr>\n",
       "    <tr>\n",
       "      <th>2021-06-16</th>\n",
       "      <td>37951.154</td>\n",
       "      <td>39647.993</td>\n",
       "      <td>40947.476</td>\n",
       "    </tr>\n",
       "    <tr>\n",
       "      <th>2021-06-17</th>\n",
       "      <td>38024.397</td>\n",
       "      <td>39564.509</td>\n",
       "      <td>40921.670</td>\n",
       "    </tr>\n",
       "  </tbody>\n",
       "</table>\n",
       "</div>"
      ],
      "text/plain": [
       "                EMA10      EMA30     EMA200\n",
       "date                                       \n",
       "2021-06-13  36276.775  39585.251  40979.077\n",
       "2021-06-14  36774.408  39548.381  40959.521\n",
       "2021-06-15  37457.750  39611.891  40955.275\n",
       "2021-06-16  37951.154  39647.993  40947.476\n",
       "2021-06-17  38024.397  39564.509  40921.670"
      ]
     },
     "execution_count": 118,
     "metadata": {},
     "output_type": "execute_result"
    }
   ],
   "source": [
    "X_train = X.loc[training_begin:training_end]\n",
    "y_train = y.loc[training_begin:training_end]\n",
    "\n",
    "X_train.tail()"
   ]
  },
  {
   "cell_type": "code",
   "execution_count": 119,
   "metadata": {},
   "outputs": [
    {
     "data": {
      "text/html": [
       "<div>\n",
       "<style scoped>\n",
       "    .dataframe tbody tr th:only-of-type {\n",
       "        vertical-align: middle;\n",
       "    }\n",
       "\n",
       "    .dataframe tbody tr th {\n",
       "        vertical-align: top;\n",
       "    }\n",
       "\n",
       "    .dataframe thead th {\n",
       "        text-align: right;\n",
       "    }\n",
       "</style>\n",
       "<table border=\"1\" class=\"dataframe\">\n",
       "  <thead>\n",
       "    <tr style=\"text-align: right;\">\n",
       "      <th></th>\n",
       "      <th>EMA10</th>\n",
       "      <th>EMA30</th>\n",
       "      <th>EMA200</th>\n",
       "    </tr>\n",
       "    <tr>\n",
       "      <th>date</th>\n",
       "      <th></th>\n",
       "      <th></th>\n",
       "      <th></th>\n",
       "    </tr>\n",
       "  </thead>\n",
       "  <tbody>\n",
       "    <tr>\n",
       "      <th>2021-06-18</th>\n",
       "      <td>38037.721</td>\n",
       "      <td>39469.875</td>\n",
       "      <td>40893.571</td>\n",
       "    </tr>\n",
       "    <tr>\n",
       "      <th>2021-06-19</th>\n",
       "      <td>37638.135</td>\n",
       "      <td>39235.689</td>\n",
       "      <td>40843.287</td>\n",
       "    </tr>\n",
       "    <tr>\n",
       "      <th>2021-06-20</th>\n",
       "      <td>37250.667</td>\n",
       "      <td>38995.133</td>\n",
       "      <td>40790.190</td>\n",
       "    </tr>\n",
       "    <tr>\n",
       "      <th>2021-06-21</th>\n",
       "      <td>36948.686</td>\n",
       "      <td>38775.432</td>\n",
       "      <td>40738.444</td>\n",
       "    </tr>\n",
       "    <tr>\n",
       "      <th>2021-06-22</th>\n",
       "      <td>35982.408</td>\n",
       "      <td>38314.705</td>\n",
       "      <td>40647.854</td>\n",
       "    </tr>\n",
       "  </tbody>\n",
       "</table>\n",
       "</div>"
      ],
      "text/plain": [
       "                EMA10      EMA30     EMA200\n",
       "date                                       \n",
       "2021-06-18  38037.721  39469.875  40893.571\n",
       "2021-06-19  37638.135  39235.689  40843.287\n",
       "2021-06-20  37250.667  38995.133  40790.190\n",
       "2021-06-21  36948.686  38775.432  40738.444\n",
       "2021-06-22  35982.408  38314.705  40647.854"
      ]
     },
     "execution_count": 119,
     "metadata": {},
     "output_type": "execute_result"
    }
   ],
   "source": [
    "X_test = X.loc[training_end_delta:]\n",
    "y_test = y.loc[training_end_delta:]\n",
    "\n",
    "X_test.head()"
   ]
  },
  {
   "cell_type": "code",
   "execution_count": 120,
   "metadata": {},
   "outputs": [
    {
     "data": {
      "text/html": [
       "<div>\n",
       "<style scoped>\n",
       "    .dataframe tbody tr th:only-of-type {\n",
       "        vertical-align: middle;\n",
       "    }\n",
       "\n",
       "    .dataframe tbody tr th {\n",
       "        vertical-align: top;\n",
       "    }\n",
       "\n",
       "    .dataframe thead th {\n",
       "        text-align: right;\n",
       "    }\n",
       "</style>\n",
       "<table border=\"1\" class=\"dataframe\">\n",
       "  <thead>\n",
       "    <tr style=\"text-align: right;\">\n",
       "      <th></th>\n",
       "      <th>EMA10</th>\n",
       "      <th>EMA30</th>\n",
       "      <th>EMA200</th>\n",
       "    </tr>\n",
       "    <tr>\n",
       "      <th>date</th>\n",
       "      <th></th>\n",
       "      <th></th>\n",
       "      <th></th>\n",
       "    </tr>\n",
       "  </thead>\n",
       "  <tbody>\n",
       "    <tr>\n",
       "      <th>2021-06-13</th>\n",
       "      <td>36276.775</td>\n",
       "      <td>39585.251</td>\n",
       "      <td>40979.077</td>\n",
       "    </tr>\n",
       "    <tr>\n",
       "      <th>2021-06-14</th>\n",
       "      <td>36774.408</td>\n",
       "      <td>39548.381</td>\n",
       "      <td>40959.521</td>\n",
       "    </tr>\n",
       "    <tr>\n",
       "      <th>2021-06-15</th>\n",
       "      <td>37457.750</td>\n",
       "      <td>39611.891</td>\n",
       "      <td>40955.275</td>\n",
       "    </tr>\n",
       "    <tr>\n",
       "      <th>2021-06-16</th>\n",
       "      <td>37951.154</td>\n",
       "      <td>39647.993</td>\n",
       "      <td>40947.476</td>\n",
       "    </tr>\n",
       "    <tr>\n",
       "      <th>2021-06-17</th>\n",
       "      <td>38024.397</td>\n",
       "      <td>39564.509</td>\n",
       "      <td>40921.670</td>\n",
       "    </tr>\n",
       "  </tbody>\n",
       "</table>\n",
       "</div>"
      ],
      "text/plain": [
       "                EMA10      EMA30     EMA200\n",
       "date                                       \n",
       "2021-06-13  36276.775  39585.251  40979.077\n",
       "2021-06-14  36774.408  39548.381  40959.521\n",
       "2021-06-15  37457.750  39611.891  40955.275\n",
       "2021-06-16  37951.154  39647.993  40947.476\n",
       "2021-06-17  38024.397  39564.509  40921.670"
      ]
     },
     "execution_count": 120,
     "metadata": {},
     "output_type": "execute_result"
    }
   ],
   "source": [
    "#module\n",
    "from sklearn.preprocessing import StandardScaler\n",
    "\n",
    "\n",
    "# Create a StandardScaler instance\n",
    "scaler = StandardScaler()\n",
    "\n",
    "X_scaler = scaler.fit(X_train)\n",
    "\n",
    "# Transform the X_train and X_test DataFrames using the X_scaler\n",
    "X_train_scaled = X_scaler.transform(X_train)\n",
    "X_test_scaled = X_scaler.transform(X_test)\n",
    "\n",
    "X_train.tail()"
   ]
  },
  {
   "cell_type": "code",
   "execution_count": 121,
   "metadata": {},
   "outputs": [
    {
     "name": "stdout",
     "output_type": "stream",
     "text": [
      "              precision    recall  f1-score   support\n",
      "\n",
      "         0.0       0.74      0.72      0.73       808\n",
      "         1.0       0.84      0.85      0.84      1385\n",
      "\n",
      "    accuracy                           0.80      2193\n",
      "   macro avg       0.79      0.78      0.79      2193\n",
      "weighted avg       0.80      0.80      0.80      2193\n",
      "\n"
     ]
    }
   ],
   "source": [
    "from sklearn.metrics import classification_report\n",
    "\n",
    "#Train SVM\n",
    "\n",
    "svm_model = svm.SVC()\n",
    "\n",
    "svm_model = svm_model.fit(X_train_scaled, y_train)\n",
    "\n",
    "training_signal_predictions = svm_model.predict(X_train_scaled)\n",
    "\n",
    "training_signal_predictions[:10]\n",
    "\n",
    "training_report = classification_report(y_train, training_signal_predictions)\n",
    "print(training_report)"
   ]
  },
  {
   "cell_type": "code",
   "execution_count": 122,
   "metadata": {},
   "outputs": [
    {
     "name": "stdout",
     "output_type": "stream",
     "text": [
      "              precision    recall  f1-score   support\n",
      "\n",
      "         0.0       0.57      1.00      0.72       158\n",
      "         1.0       0.00      0.00      0.00       120\n",
      "\n",
      "    accuracy                           0.57       278\n",
      "   macro avg       0.28      0.50      0.36       278\n",
      "weighted avg       0.32      0.57      0.41       278\n",
      "\n"
     ]
    }
   ],
   "source": [
    "#Test SVM \n",
    "\n",
    "testing_signal_predictions = svm_model.predict(X_test_scaled)\n",
    "\n",
    "testing_report = classification_report(y_test, testing_signal_predictions)\n",
    "\n",
    "print(testing_report)"
   ]
  },
  {
   "cell_type": "code",
   "execution_count": 123,
   "metadata": {},
   "outputs": [],
   "source": [
    "from sklearn.linear_model import LogisticRegression\n",
    "lr = LogisticRegression()"
   ]
  },
  {
   "cell_type": "code",
   "execution_count": 128,
   "metadata": {},
   "outputs": [
    {
     "name": "stdout",
     "output_type": "stream",
     "text": [
      "              precision    recall  f1-score   support\n",
      "\n",
      "         0.0       0.76      0.72      0.74       808\n",
      "         1.0       0.84      0.87      0.85      1385\n",
      "\n",
      "    accuracy                           0.81      2193\n",
      "   macro avg       0.80      0.79      0.80      2193\n",
      "weighted avg       0.81      0.81      0.81      2193\n",
      "\n"
     ]
    }
   ],
   "source": [
    "#Train LR Model\n",
    "\n",
    "model_lr = lr.fit(X_train_scaled, y_train)\n",
    "\n",
    "train_signal_predictions_lr = model_lr.predict(X_train_scaled)\n",
    "\n",
    "training_report_lr = classification_report(y_train, train_signal_predictions_lr)\n",
    "\n",
    "print(training_report_lr)"
   ]
  },
  {
   "cell_type": "code",
   "execution_count": 129,
   "metadata": {},
   "outputs": [
    {
     "name": "stdout",
     "output_type": "stream",
     "text": [
      "              precision    recall  f1-score   support\n",
      "\n",
      "         0.0       0.57      1.00      0.73       158\n",
      "         1.0       1.00      0.03      0.05       120\n",
      "\n",
      "    accuracy                           0.58       278\n",
      "   macro avg       0.79      0.51      0.39       278\n",
      "weighted avg       0.76      0.58      0.44       278\n",
      "\n"
     ]
    }
   ],
   "source": [
    "#Test LR Model\n",
    "\n",
    "test_signal_predictions_lr = model_lr.predict(X_test_scaled)\n",
    "\n",
    "test_report_lr = classification_report(y_test, test_signal_predictions_lr)\n",
    "print(test_report_lr)"
   ]
  },
  {
   "cell_type": "code",
   "execution_count": 131,
   "metadata": {},
   "outputs": [
    {
     "name": "stdout",
     "output_type": "stream",
     "text": [
      "[[158   0]\n",
      " [117   3]]\n"
     ]
    }
   ],
   "source": [
    "# Import Modules\n",
    "from sklearn.metrics import confusion_matrix,classification_report\n",
    "\n",
    "# Print confusion matrix\n",
    "print(confusion_matrix(y_test, test_signal_predictions_lr))"
   ]
  },
  {
   "cell_type": "code",
   "execution_count": null,
   "metadata": {},
   "outputs": [],
   "source": []
  }
 ],
 "metadata": {
  "_change_revision": 206,
  "_is_fork": false,
  "colab": {
   "collapsed_sections": [],
   "include_colab_link": true,
   "name": "BitcoinTradingStrategy.ipynb",
   "provenance": []
  },
  "kernelspec": {
   "display_name": "Python 3 (ipykernel)",
   "language": "python",
   "name": "python3"
  },
  "language_info": {
   "codemirror_mode": {
    "name": "ipython",
    "version": 3
   },
   "file_extension": ".py",
   "mimetype": "text/x-python",
   "name": "python",
   "nbconvert_exporter": "python",
   "pygments_lexer": "ipython3",
   "version": "3.7.10"
  }
 },
 "nbformat": 4,
 "nbformat_minor": 4
}
